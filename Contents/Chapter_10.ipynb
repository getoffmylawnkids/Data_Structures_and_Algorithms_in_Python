{
 "cells": [
  {
   "cell_type": "markdown",
   "source": [
    "# Chapter 10: Maps, Hash Tables, and Skip Lists"
   ],
   "metadata": {
    "collapsed": false
   }
  },
  {
   "cell_type": "markdown",
   "source": [
    "## Chapter 10.1: Maps and Dictionaries"
   ],
   "metadata": {
    "collapsed": false
   }
  },
  {
   "cell_type": "markdown",
   "source": [
    "Python's `dict` class is arguably the most significant data structure in the language. It represents an abstraction known as a dictionary in which unique keys are mapped to associated values. We note that the keys are assumed to be unique, but the values are not necessarily unique."
   ],
   "metadata": {
    "collapsed": false
   }
  },
  {
   "cell_type": "markdown",
   "source": [
    "**Common applications of maps including the following.**\n",
    "\n",
    "* A university's information system relies on some form of a student ID as a ke that is mapped to that student's associated record serving as the value.\n",
    "* The domain-name system (DNS) maps a host name, such as `www.wiley.com`, to an Internet-Protocol (IP) address, such as `208.215.179.146`.\n",
    "* A social media site typically relies on a (nonnumeric) username as a key that can be efficiently mapped to a particular user's associated information.\n",
    "* A computer graphics system may map a color name, such as `turquoise`, to the tripple of numberss that describes the color's RGB representation, such as `(64, 22,4 208)`.\n",
    "* Python uses a dictionary to reprsent each namespace, mapping an identifying string, such as `pi`, to an associated object, such as `3.14159`."
   ],
   "metadata": {
    "collapsed": false
   }
  },
  {
   "cell_type": "markdown",
   "source": [
    "In this chapter and the next we demonstrate that a map may be implemented so that a search for a key, and its associated value, can be performed very efficiently, thereby supporting fast lookup in such applications."
   ],
   "metadata": {
    "collapsed": false
   }
  },
  {
   "cell_type": "markdown",
   "source": [
    "### 10.1.1 The Map ADT"
   ],
   "metadata": {
    "collapsed": false
   }
  },
  {
   "cell_type": "markdown",
   "source": [
    "We begin by listing what we consider the most significant five behaviors of a map `M` as follows:\n",
    "\n",
    "* `M[k]`: Return the value `v` associated with key `k` in map `M`, if one exists; otherwise raise a `KeyError`. In python, this is implemented with the special method `__getitem__`.\n",
    "* `M[k] = v`: Associate value `v` with key `k` in map `M`, replacing the existing value if the map already contains an item with key equal to `k`. In python, this is implemented with the special method `__setitem__`.\n",
    "* `del M[k]`: Remove from map `M` the item with key equal to `k`; if `M` has no such item, then raise a `KeyError`. In Python, this is implemented with the special method `__delitem__`.\n",
    "* `len(M)`: Return the number of items in map `M`. In python, this is impelmented with the special method `__len__`.\n",
    "* `iter(M)`: The default iteration for a map generates a sequence of `keys` in the map. In Python, this is implemented with the special method `__iter__`, and it allows lopps of the form, `for k in M`."
   ],
   "metadata": {
    "collapsed": false
   }
  },
  {
   "cell_type": "markdown",
   "source": [
    "We have highlighted the above five behaviors because they demonstrate the core functionality of a map-namely, the ability to query, add, modify, or delete a key-value pair, and the ability to report all such pairs. For additional convenience, map `M` should also support the following behaviors:\n",
    "\n",
    "* `k in M`: Return `True` if the map contains an item with key `k`. In Python, this is implemented with the special `__contains__` method.\n",
    "* `M.get(k, d=None)`: Return `M[k]` if key `k` exists in the map; otherwise return default value `d`. This provides a form to query `M[k]` without risk of a `KeyError`.\n",
    "* `M.setdefault(k, d)`: If key `k` exists in the map, simply return `M[k]`; if key `k` does not exist, set `M[k] = d` and return that value.\n",
    "* `M.pop(k, d=NOne)`: Remove the item associated with key `k` from the map and return its associated value `v`. If key `k` is not in the map, return default value `d` (or raise `KeyError` if parameter `d` is `None`).\n",
    "* `M.popitem()`: Remove an arbitrary key-value pair from the map, and return a `(k,v)` tuple representing the removed pair. If map is empty, raise a `KeyError`.\n",
    "* `M.clear()`: Remove all key-value pairs from the map.\n",
    "* `M.keys()`: Return a set-like view of all keys of `M`.\n",
    "* `M.values()`: Return a set-like view of all values of `M`.\n",
    "* `M.items()`: Return a set-like view of `(k, v)` tuples for all entries of `M`.\n",
    "* `M.update(M2)`: Assign `M[k] = v` for every `(k, v)` pair in map `M2`.\n",
    "* `M == M2`: Return `True` if maps `M` and `M2` have identical key-value associations.\n",
    "* `M != M2`: Return `True` if maps `M` and `M2` do not have identical key-value associations."
   ],
   "metadata": {
    "collapsed": false
   }
  },
  {
   "cell_type": "markdown",
   "source": [
    "### 10.1.2 Application: Counting Word Frequencies"
   ],
   "metadata": {
    "collapsed": false
   }
  },
  {
   "cell_type": "code",
   "execution_count": 13,
   "outputs": [],
   "source": [
    "text_sample = \"ALEXEY Fyodorovitch Karamazov was the third son of Fyodor Pavlovitch Karamazov, a landowner well known in our district in his own day, and still remembered among us owing to his gloomy and tragic death, which happened thirteen years ago, and which I shall describe in its proper place. For the present I will only say that this 'landowner'- for so we used to call him, although he hardly spent a day of his life on his own estate- was a strange type, yet one pretty frequently to be met with, a type abject and vicious and at the same time senseless. But he was one of those senseless persons who are very well capable of looking after their worldly affairs, and, apparently, after nothing else. Fyodor Pavlovitch, for instance, began with next to nothing; his estate was of the smallest; he ran to dine at other men's tables, and fastened on them as a toady, yet at his death it appeared that he had a hundred thousand roubles in hard cash. At the same time, he was all his life one of the most senseless, fantastical fellows in the whole district. I repeat, it was not stupidity- the majority of these fantastical fellows are shrewd and intelligent enough- but just senselessness, and a peculiar national form of it.\""
   ],
   "metadata": {
    "collapsed": false
   }
  },
  {
   "cell_type": "code",
   "execution_count": 18,
   "outputs": [],
   "source": [
    "freq = {}\n",
    "words = [c for c in text_sample.lower().split() if c.isalpha()]"
   ],
   "metadata": {
    "collapsed": false
   }
  },
  {
   "cell_type": "code",
   "execution_count": 19,
   "outputs": [],
   "source": [
    "for word in words:\n",
    "    freq[word] = 1 + freq.get(word, 0)"
   ],
   "metadata": {
    "collapsed": false
   }
  },
  {
   "cell_type": "code",
   "execution_count": 20,
   "outputs": [
    {
     "data": {
      "text/plain": "{'alexey': 1,\n 'fyodorovitch': 1,\n 'karamazov': 1,\n 'was': 6,\n 'the': 8,\n 'third': 1,\n 'son': 1,\n 'of': 8,\n 'fyodor': 2,\n 'pavlovitch': 1,\n 'a': 7,\n 'landowner': 1,\n 'well': 2,\n 'known': 1,\n 'in': 5,\n 'our': 1,\n 'district': 1,\n 'his': 7,\n 'own': 2,\n 'and': 8,\n 'still': 1,\n 'remembered': 1,\n 'among': 1,\n 'us': 1,\n 'owing': 1,\n 'to': 5,\n 'gloomy': 1,\n 'tragic': 1,\n 'which': 2,\n 'happened': 1,\n 'thirteen': 1,\n 'years': 1,\n 'i': 3,\n 'shall': 1,\n 'describe': 1,\n 'its': 1,\n 'proper': 1,\n 'for': 3,\n 'present': 1,\n 'will': 1,\n 'only': 1,\n 'say': 1,\n 'that': 2,\n 'this': 1,\n 'so': 1,\n 'we': 1,\n 'used': 1,\n 'call': 1,\n 'although': 1,\n 'he': 5,\n 'hardly': 1,\n 'spent': 1,\n 'day': 1,\n 'life': 2,\n 'on': 2,\n 'strange': 1,\n 'yet': 2,\n 'one': 3,\n 'pretty': 1,\n 'frequently': 1,\n 'be': 1,\n 'met': 1,\n 'type': 1,\n 'abject': 1,\n 'vicious': 1,\n 'at': 4,\n 'same': 2,\n 'time': 1,\n 'but': 2,\n 'those': 1,\n 'senseless': 1,\n 'persons': 1,\n 'who': 1,\n 'are': 2,\n 'very': 1,\n 'capable': 1,\n 'looking': 1,\n 'after': 2,\n 'their': 1,\n 'worldly': 1,\n 'nothing': 1,\n 'began': 1,\n 'with': 1,\n 'next': 1,\n 'estate': 1,\n 'ran': 1,\n 'dine': 1,\n 'other': 1,\n 'fastened': 1,\n 'them': 1,\n 'as': 1,\n 'death': 1,\n 'it': 2,\n 'appeared': 1,\n 'had': 1,\n 'hundred': 1,\n 'thousand': 1,\n 'roubles': 1,\n 'hard': 1,\n 'all': 1,\n 'most': 1,\n 'fantastical': 2,\n 'fellows': 2,\n 'whole': 1,\n 'not': 1,\n 'majority': 1,\n 'these': 1,\n 'shrewd': 1,\n 'intelligent': 1,\n 'just': 1,\n 'peculiar': 1,\n 'national': 1,\n 'form': 1}"
     },
     "execution_count": 20,
     "metadata": {},
     "output_type": "execute_result"
    }
   ],
   "source": [
    "freq"
   ],
   "metadata": {
    "collapsed": false
   }
  },
  {
   "cell_type": "code",
   "execution_count": 22,
   "outputs": [
    {
     "name": "stdout",
     "output_type": "stream",
     "text": [
      "The most frequent word is the\n",
      "Its number of occurencies is 8\n"
     ]
    }
   ],
   "source": [
    "max_word = ''\n",
    "max_count = 0\n",
    "for (w,c) in freq.items():\n",
    "    if c > max_count:\n",
    "        max_word = w\n",
    "        max_count = c\n",
    "\n",
    "print('The most frequent word is', max_word)\n",
    "print('Its number of occurencies is', max_count)\n"
   ],
   "metadata": {
    "collapsed": false
   }
  },
  {
   "cell_type": "code",
   "execution_count": null,
   "outputs": [],
   "source": [],
   "metadata": {
    "collapsed": false
   }
  }
 ],
 "metadata": {
  "kernelspec": {
   "display_name": "Python 3",
   "language": "python",
   "name": "python3"
  },
  "language_info": {
   "codemirror_mode": {
    "name": "ipython",
    "version": 2
   },
   "file_extension": ".py",
   "mimetype": "text/x-python",
   "name": "python",
   "nbconvert_exporter": "python",
   "pygments_lexer": "ipython2",
   "version": "2.7.6"
  }
 },
 "nbformat": 4,
 "nbformat_minor": 0
}
