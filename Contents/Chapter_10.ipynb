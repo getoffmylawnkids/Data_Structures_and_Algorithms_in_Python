{
 "cells": [
  {
   "cell_type": "markdown",
   "source": [
    "# Chapter 10: Maps, Hash Tables, and Skip Lists"
   ],
   "metadata": {
    "collapsed": false
   }
  },
  {
   "cell_type": "markdown",
   "source": [
    "## Chapter 10.1: Maps and Dictionaries"
   ],
   "metadata": {
    "collapsed": false
   }
  },
  {
   "cell_type": "markdown",
   "source": [
    "Python's `dict` class is arguably the most significant data structure in the language. It represents an abstraction known as a dictionary in which unique keys are mapped to associated values. We note that the keys are assumed to be unique, but the values are not necessarily unique."
   ],
   "metadata": {
    "collapsed": false
   }
  },
  {
   "cell_type": "markdown",
   "source": [
    "**Common applications of maps including the following.**\n",
    "\n",
    "* A university's information system relies on some form of a student ID as a ke that is mapped to that student's associated record serving as the value.\n",
    "* The domain-name system (DNS) maps a host name, such as `www.wiley.com`, to an Internet-Protocol (IP) address, such as `208.215.179.146`.\n",
    "* A social media site typically relies on a (nonnumeric) username as a key that can be efficiently mapped to a particular user's associated information.\n",
    "* A computer graphics system may map a color name, such as `turquoise`, to the tripple of numberss that describes the color's RGB representation, such as `(64, 22,4 208)`.\n",
    "* Python uses a dictionary to reprsent each namespace, mapping an identifying string, such as `pi`, to an associated object, such as `3.14159`."
   ],
   "metadata": {
    "collapsed": false
   }
  },
  {
   "cell_type": "markdown",
   "source": [
    "In this chapter and the next we demonstrate that a map may be implemented so that a search for a key, and its associated value, can be performed very efficiently, thereby supporting fast lookup in such applications."
   ],
   "metadata": {
    "collapsed": false
   }
  },
  {
   "cell_type": "markdown",
   "source": [
    "### 10.1.1 The Map ADT"
   ],
   "metadata": {
    "collapsed": false
   }
  },
  {
   "cell_type": "markdown",
   "source": [
    "We begin by listing what we consider the most significant five behaviors of a map `M` as follows:\n",
    "\n",
    "* `M[k]`: Return the value `v` associated with key `k` in map `M`, if one exists; otherwise raise a `KeyError`. In python, this is implemented with the special method `__getitem__`.\n",
    "* `M[k] = v`: Associate value `v` with key `k` in map `M`, replacing the existing value if the map already contains an item with key equal to `k`. In python, this is implemented with the special method `__setitem__`.\n",
    "* `del M[k]`: Remove from map `M` the item with key equal to `k`; if `M` has no such item, then raise a `KeyError`. In Python, this is implemented with the special method `__delitem__`.\n",
    "* `len(M)`: Return the number of items in map `M`. In python, this is impelmented with the special method `__len__`.\n",
    "* `iter(M)`: The default iteration for a map generates a sequence of `keys` in the map. In Python, this is implemented with the special method `__iter__`, and it allows lopps of the form, `for k in M`."
   ],
   "metadata": {
    "collapsed": false
   }
  },
  {
   "cell_type": "markdown",
   "source": [
    "We have highlighted the above five behaviors because they demonstrate the core functionality of a map-namely, the ability to query, add, modify, or delete a key-value pair, and the ability to report all such pairs. For additional convenience, map `M` should also support the following behaviors:\n",
    "\n",
    "* `k in M`: Return `True` if the map contains an item with key `k`. In Python, this is implemented with the special `__contains__` method.\n",
    "* `M.get(k, d=None)`: Return `M[k]` if key `k` exists in the map; otherwise return default value `d`. This provides a form to query `M[k]` without risk of a `KeyError`.\n",
    "* `M.setdefault(k, d)`: If key `k` exists in the map, simply return `M[k]`; if key `k` does not exist, set `M[k] = d` and return that value.\n",
    "* `M.pop(k, d=NOne)`: Remove the item associated with key `k` from the map and return its associated value `v`. If key `k` is not in the map, return default value `d` (or raise `KeyError` if parameter `d` is `None`).\n",
    "* `M.popitem()`: Remove an arbitrary key-value pair from the map, and return a `(k,v)` tuple representing the removed pair. If map is empty, raise a `KeyError`.\n",
    "* `M.clear()`: Remove all key-value pairs from the map.\n",
    "* `M.keys()`: Return a set-like view of all keys of `M`.\n",
    "* `M.values()`: Return a set-like view of all values of `M`.\n",
    "* `M.items()`: Return a set-like view of `(k, v)` tuples for all entries of `M`.\n",
    "* `M.update(M2)`: Assign `M[k] = v` for every `(k, v)` pair in map `M2`.\n",
    "* `M == M2`: Return `True` if maps `M` and `M2` have identical key-value associations.\n",
    "* `M != M2`: Return `True` if maps `M` and `M2` do not have identical key-value associations."
   ],
   "metadata": {
    "collapsed": false
   }
  },
  {
   "cell_type": "markdown",
   "source": [
    "### 10.1.2 Application: Counting Word Frequencies"
   ],
   "metadata": {
    "collapsed": false
   }
  },
  {
   "cell_type": "code",
   "execution_count": 13,
   "outputs": [],
   "source": [
    "text_sample = \"ALEXEY Fyodorovitch Karamazov was the third son of Fyodor Pavlovitch Karamazov, a landowner well known in our district in his own day, and still remembered among us owing to his gloomy and tragic death, which happened thirteen years ago, and which I shall describe in its proper place. For the present I will only say that this 'landowner'- for so we used to call him, although he hardly spent a day of his life on his own estate- was a strange type, yet one pretty frequently to be met with, a type abject and vicious and at the same time senseless. But he was one of those senseless persons who are very well capable of looking after their worldly affairs, and, apparently, after nothing else. Fyodor Pavlovitch, for instance, began with next to nothing; his estate was of the smallest; he ran to dine at other men's tables, and fastened on them as a toady, yet at his death it appeared that he had a hundred thousand roubles in hard cash. At the same time, he was all his life one of the most senseless, fantastical fellows in the whole district. I repeat, it was not stupidity- the majority of these fantastical fellows are shrewd and intelligent enough- but just senselessness, and a peculiar national form of it.\""
   ],
   "metadata": {
    "collapsed": false
   }
  },
  {
   "cell_type": "code",
   "execution_count": 18,
   "outputs": [],
   "source": [
    "freq = {}\n",
    "words = [c for c in text_sample.lower().split() if c.isalpha()]"
   ],
   "metadata": {
    "collapsed": false
   }
  },
  {
   "cell_type": "code",
   "execution_count": 19,
   "outputs": [],
   "source": [
    "for word in words:\n",
    "    freq[word] = 1 + freq.get(word, 0)"
   ],
   "metadata": {
    "collapsed": false
   }
  },
  {
   "cell_type": "code",
   "execution_count": 20,
   "outputs": [
    {
     "data": {
      "text/plain": "{'alexey': 1,\n 'fyodorovitch': 1,\n 'karamazov': 1,\n 'was': 6,\n 'the': 8,\n 'third': 1,\n 'son': 1,\n 'of': 8,\n 'fyodor': 2,\n 'pavlovitch': 1,\n 'a': 7,\n 'landowner': 1,\n 'well': 2,\n 'known': 1,\n 'in': 5,\n 'our': 1,\n 'district': 1,\n 'his': 7,\n 'own': 2,\n 'and': 8,\n 'still': 1,\n 'remembered': 1,\n 'among': 1,\n 'us': 1,\n 'owing': 1,\n 'to': 5,\n 'gloomy': 1,\n 'tragic': 1,\n 'which': 2,\n 'happened': 1,\n 'thirteen': 1,\n 'years': 1,\n 'i': 3,\n 'shall': 1,\n 'describe': 1,\n 'its': 1,\n 'proper': 1,\n 'for': 3,\n 'present': 1,\n 'will': 1,\n 'only': 1,\n 'say': 1,\n 'that': 2,\n 'this': 1,\n 'so': 1,\n 'we': 1,\n 'used': 1,\n 'call': 1,\n 'although': 1,\n 'he': 5,\n 'hardly': 1,\n 'spent': 1,\n 'day': 1,\n 'life': 2,\n 'on': 2,\n 'strange': 1,\n 'yet': 2,\n 'one': 3,\n 'pretty': 1,\n 'frequently': 1,\n 'be': 1,\n 'met': 1,\n 'type': 1,\n 'abject': 1,\n 'vicious': 1,\n 'at': 4,\n 'same': 2,\n 'time': 1,\n 'but': 2,\n 'those': 1,\n 'senseless': 1,\n 'persons': 1,\n 'who': 1,\n 'are': 2,\n 'very': 1,\n 'capable': 1,\n 'looking': 1,\n 'after': 2,\n 'their': 1,\n 'worldly': 1,\n 'nothing': 1,\n 'began': 1,\n 'with': 1,\n 'next': 1,\n 'estate': 1,\n 'ran': 1,\n 'dine': 1,\n 'other': 1,\n 'fastened': 1,\n 'them': 1,\n 'as': 1,\n 'death': 1,\n 'it': 2,\n 'appeared': 1,\n 'had': 1,\n 'hundred': 1,\n 'thousand': 1,\n 'roubles': 1,\n 'hard': 1,\n 'all': 1,\n 'most': 1,\n 'fantastical': 2,\n 'fellows': 2,\n 'whole': 1,\n 'not': 1,\n 'majority': 1,\n 'these': 1,\n 'shrewd': 1,\n 'intelligent': 1,\n 'just': 1,\n 'peculiar': 1,\n 'national': 1,\n 'form': 1}"
     },
     "execution_count": 20,
     "metadata": {},
     "output_type": "execute_result"
    }
   ],
   "source": [
    "freq"
   ],
   "metadata": {
    "collapsed": false
   }
  },
  {
   "cell_type": "code",
   "execution_count": 22,
   "outputs": [
    {
     "name": "stdout",
     "output_type": "stream",
     "text": [
      "The most frequent word is the\n",
      "Its number of occurencies is 8\n"
     ]
    }
   ],
   "source": [
    "max_word = ''\n",
    "max_count = 0\n",
    "for (w,c) in freq.items():\n",
    "    if c > max_count:\n",
    "        max_word = w\n",
    "        max_count = c\n",
    "\n",
    "print('The most frequent word is', max_word)\n",
    "print('Its number of occurencies is', max_count)\n"
   ],
   "metadata": {
    "collapsed": false
   }
  },
  {
   "cell_type": "markdown",
   "source": [
    "### 10.1.3: Python's `MutableMapping` Abstract Base Class"
   ],
   "metadata": {
    "collapsed": false
   }
  },
  {
   "cell_type": "markdown",
   "source": [
    "The `collections` moudle provides two abstract base classes that are relevant to our concurrent discussion: the `Mapping` and `MutableMapping` classes. THe `Mapping` class includes all nonmutating methods supported by Python's `dict` classes. The `Mapping` class includes all nonmutating methods supportd by Python's `dict` lcass, while the `MutableMapping` class extends that to include the mutating methods. What we define as the map ADT in Section 10.1.1 is aking to the `MutableMapping` abtract base class in Python's `collections` module."
   ],
   "metadata": {
    "collapsed": false
   }
  },
  {
   "cell_type": "markdown",
   "source": [
    "The significance of these abstract base classes is that they provide a framework to assis in createing a user-defined amp class."
   ],
   "metadata": {
    "collapsed": false
   }
  },
  {
   "cell_type": "code",
   "execution_count": 3,
   "outputs": [],
   "source": [
    "from collections.abc import Mapping, MutableMapping"
   ],
   "metadata": {
    "collapsed": false
   }
  },
  {
   "cell_type": "markdown",
   "source": [
    "### 10.1.4: Our `MapBase` Class"
   ],
   "metadata": {
    "collapsed": false
   }
  },
  {
   "cell_type": "code",
   "execution_count": 4,
   "outputs": [],
   "source": [
    "class MapBase(MutableMapping):\n",
    "    \"\"\"Our own abstract base class that includes a nonpublic _Item class.\"\"\"\n",
    "\n",
    "    #-------------------------- nested _Item class --------------------------\n",
    "    class _Item:\n",
    "        \"\"\"Lightweight composite to store key-value pairs as map items\"\"\"\n",
    "\n",
    "        __slots__ = '_key', '_value'\n",
    "\n",
    "        def __init__(self, k, v):\n",
    "            self._key = k\n",
    "            self._value = v\n",
    "\n",
    "        def __eq__(self, other):\n",
    "            return self._key == other._key  # compare items based on their keys\n",
    "\n",
    "        def __ne__(self, other):\n",
    "            return not (self == other)  # opposite of __eq__\n",
    "\n",
    "        def __lt__(self, other):\n",
    "            return self._key < other._key  # compare items based on their keys\n",
    "\n",
    "\n"
   ],
   "metadata": {
    "collapsed": false
   }
  },
  {
   "cell_type": "markdown",
   "source": [
    "### 10.1.5: Simple Unsorted Map Implementation"
   ],
   "metadata": {
    "collapsed": false
   }
  },
  {
   "cell_type": "markdown",
   "source": [
    "We demonstrate the use of tghe `MapBase` class with a very simple concrete implementation of the map ADT."
   ],
   "metadata": {
    "collapsed": false
   }
  },
  {
   "cell_type": "code",
   "execution_count": 8,
   "outputs": [],
   "source": [
    "class UnsortedTableMap(MapBase):\n",
    "    \"\"\"Map implementation using an unordered list.\"\"\"\n",
    "\n",
    "    def __init__(self):\n",
    "        \"\"\"Create an empty map.\"\"\"\n",
    "        self._table = []\n",
    "\n",
    "    def __getitem__(self, k):\n",
    "        \"\"\"Return value associated with key k (raise KeyError if not found).\"\"\"\n",
    "\n",
    "        for item in self._table:\n",
    "            if k == item._key:\n",
    "                return item._value\n",
    "        raise KeyError('Key Error: ' + repr(k))\n",
    "\n",
    "    def __setitem__(self, k, v):\n",
    "        \"\"\"Assign value v to key k, overwriting existing value if present.\"\"\"\n",
    "        for item in self._table:\n",
    "            if k == item._key:\n",
    "                item._value = v\n",
    "        # did not find match for key\n",
    "        self._table.append(self._Item(k,v))\n",
    "\n",
    "    def __delitem__(self, k):\n",
    "        \"\"\"Remove item associated with key k (raise KeyError if not found).\"\"\"\n",
    "        for j in range(len(self._table)):\n",
    "            if k == self._table[j]._key:\n",
    "                self._table.pop(j)\n",
    "                return\n",
    "        raise KeyError(\"Key Error: \" + repr(k))\n",
    "\n",
    "    def __len__(self):\n",
    "        \"\"\"Return number of items in the map.\"\"\"\n",
    "        return len(self._table)\n",
    "\n",
    "    def __iter__(self):\n",
    "        \"\"\"Generate iteration of the map's keys.\"\"\"\n",
    "        for item in self._table:\n",
    "            yield item._key"
   ],
   "metadata": {
    "collapsed": false
   }
  },
  {
   "cell_type": "markdown",
   "source": [
    "## 10.2 Hash Tables"
   ],
   "metadata": {
    "collapsed": false
   }
  },
  {
   "cell_type": "markdown",
   "source": [
    "In this section, we introduce one of the most practical data structures for implementing a map, and the one that is used by Python's own implementation of the `dict` class. This structure is known as a ***hash table***.\n",
    "\n",
    "The novel concept for a hash table is the use of a **hash function** to map general keys to corresponding indices in a table. Ideally, keys will be well distributed in the range from $0$ to $N-1$ by a hash function, but in practice there may be two or more distinct keys that get mapped to the same index. As a result, we will conceptualize our table as a ***buckey array***, in which each bucket may manage a collection of items that are sent to a specific index by the hash function."
   ],
   "metadata": {
    "collapsed": false
   }
  },
  {
   "cell_type": "markdown",
   "source": [
    "### 10.2.1 Hash Functions"
   ],
   "metadata": {
    "collapsed": false
   }
  },
  {
   "cell_type": "markdown",
   "source": [
    "The goal of a ***hash function***, $h$, is to map each key $k$ to an integer in the range $[0,N-1]$, where $N$ is the capacity of the bucket array for a hash table. Equipped with such a hash function, $h$ the main idea of this approach is to user the hash function value, $h(k)$, as an index into our bucket array, $A$, instead of the key $k$. That is, we store item $(k,v)$ in the bucket $A[h(k)]$."
   ],
   "metadata": {
    "collapsed": false
   }
  },
  {
   "cell_type": "markdown",
   "source": [
    "If there are two or more keys with the same hash value, then two different items will be mapped to the same bucket in $A$%. In this case, we say that a ***collision*** has occurred. To be sure, there are ways of dealing with collisions, which we will discuss later, but the best strategy is to try to avoid them in the first place. We say that a hash function is \"good\" if it maps the keys in our map so as to sufficiently minimize collisions. For practical reasons, we also would like a hash function to be fast and easy to compute."
   ],
   "metadata": {
    "collapsed": false
   }
  },
  {
   "cell_type": "markdown",
   "source": [
    "It is common to view the evaluation of a hash function, $h(k)$, as consisting of two portions-a ***hash code*** that maps aa key $k$ to an integer, and a ***compression function*** that maps the hash code to an integer within a range of indices, $[0, N-1]$, for a bucket array."
   ],
   "metadata": {
    "collapsed": false
   }
  },
  {
   "cell_type": "markdown",
   "source": [
    "The ad avantage of separating the hash function into two such components is that the hash code portion of that computation is independent of a specific hash table size. This allows the development of a general hash code for each object that can be used for a hash table of any size.; only the compression function depends upon the table size. This is particularly convenient because the underelying bucket array for a hash table may be dynamically resized, depnding on the number of items currently stored in the map."
   ],
   "metadata": {
    "collapsed": false
   }
  },
  {
   "cell_type": "markdown",
   "source": [
    "### Hash Codes\n",
    "\n",
    "The first action that a hash function performs is to take an arbitrary key $k$ in our map and compute an integer that is called the ***hash code*** for $k$; this integer need not be in the range $[0, N-1]$, and may even be negative. We desire that the set of hash codes assigned to our keys should avoid collisions as much as possible. For if the hash codes of our keys cause collisions, then there is no hope for our compression function to avoid them. In this subsection, we begin by discussing the theory of hash codes. Following that, we discuss practical implementations of hash codes in Python."
   ],
   "metadata": {
    "collapsed": false
   }
  },
  {
   "cell_type": "markdown",
   "source": [
    "**Treating the Bit Representation as an Integer**"
   ],
   "metadata": {
    "collapsed": false
   }
  },
  {
   "cell_type": "markdown",
   "source": [
    "For a type whose bit representation is longer than a desired hash code, simply using the interpretation of bits will be highly inefficient. For wexample, Python relies on 32-bit hash codes. If a floating-point number uses a 64-bit representation, its bits cannot be viewed directly as a hash code. One possibility is to use only the high-order 32 bits (or the low-order 32 bits). This hash code, of course, ignores half of the information present in the original key, and if many of the keys in our map only differ in these bits, then they will collide using this simple hash code.\n",
    "\n",
    "A better approach is to combine in some way the high-order and low-order portions of a 64-bit key to form a 32-bit hash code, which takes all the original bits into consideration. A simple implementation is to add the two components as 32-bit numberss (ignoring overflow), or to take the exclusive-or of the two components. These approaches of combining components can be extended to any object $x$ whose binary representation can be viewed as an $n$-tuple $(x_0, x_1, \\ldots, x_{n-1})$ of 32-bit integers, for example, by forming a hash code for $x$ as $\\sum_{i=0}^{n-1} x_{i}$ or as $x_0 \\bigoplus$ x_1 \\bigoplus$ \\cdots \\bigoplus x_{n-1}$, where the $\\bigoplus$ symbol represents the bitwise exclusive-or operation (which is `^` in Python)."
   ],
   "metadata": {
    "collapsed": false
   }
  },
  {
   "cell_type": "markdown",
   "source": [
    "**Polynomial Hash Codes**"
   ],
   "metadata": {
    "collapsed": false
   }
  },
  {
   "cell_type": "markdown",
   "source": [
    "The summation and exclusive-or hash codes produces lots of unwanted collisions for common group of strings. An alternative hash code, which does exactly this, is to choose a nonzero constant, $a \\neq 1$, and use as a hash code the value:\n",
    "\n",
    "$$ x_0 a^{n-1} + x_1 a^{n-2} + \\cdots +x_{n-2}a + x_{n-1} $$\n",
    "\n",
    "Mathematically speaking, this is simply a polynomial in $a$ that takes the components $(x_0, x_1, \\cdots, x_{n-1})$ of an object $x$ as its coefficients. This hash code is therefore called a ***polynomial hash code***. We should choose the constant $a$ so that it has some nonzero, low-order bits, which will serve to preserve some of the information content even as we are in an overflow situation."
   ],
   "metadata": {
    "collapsed": false
   }
  },
  {
   "cell_type": "markdown",
   "source": [
    "**Cyclic-Shift Hash Codes**"
   ],
   "metadata": {
    "collapsed": false
   }
  },
  {
   "cell_type": "markdown",
   "source": [
    "A variant of the polynomial hash coide replaces multiplcation by $a$ with a cyclic shift of a partial sum by a certain number of bits. It accomplishes the goal of varying the bits of the calculation. In Python, a cyclic shift of bits can be accomplished through careful use of the bitwise operations `<<` and `>>`, taking care to truncate result to 32-bit integers."
   ],
   "metadata": {
    "collapsed": false
   }
  },
  {
   "cell_type": "code",
   "execution_count": 1,
   "outputs": [],
   "source": [
    "def hash_code(s):\n",
    "    mask = (1 << 32) - 1  # limit to 32-bit integers\n",
    "    h = 0\n",
    "    for character in s:\n",
    "        h = (h << 5 & mask) | (h >> 27)\n",
    "        h += ord(character)\n",
    "    return h"
   ],
   "metadata": {
    "collapsed": false
   }
  },
  {
   "cell_type": "code",
   "execution_count": 10,
   "outputs": [],
   "source": [
    "mask = (1 << 32) - 1"
   ],
   "metadata": {
    "collapsed": false
   }
  },
  {
   "cell_type": "code",
   "execution_count": 11,
   "outputs": [
    {
     "data": {
      "text/plain": "32"
     },
     "execution_count": 11,
     "metadata": {},
     "output_type": "execute_result"
    }
   ],
   "source": [
    "(1 << 5) & mask"
   ],
   "metadata": {
    "collapsed": false
   }
  },
  {
   "cell_type": "markdown",
   "source": [
    "As with the traditional polynomial hash code, fine-tuning is required when using a cyclic-shift hash code, as we must wisely choose the amount to shift by for each new character."
   ],
   "metadata": {
    "collapsed": false
   }
  },
  {
   "cell_type": "markdown",
   "source": [
    "**Hash Codes in Python**"
   ],
   "metadata": {
    "collapsed": false
   }
  },
  {
   "cell_type": "markdown",
   "source": [
    "The standard mechanism for computing hash codes in Python is a built-in function with signature `hash(x)` that returns an integer value that serves as the hash code for object `x`. However, only ***immutable*** data types are deemed hashable in Python. This restriction is meant to ensure that a aparticular object's hash code remains constant during that object's lifespan. This is an important property for an object's use as as key in a hash table. A problem could occur if a key were inserted into the hash table, yet a later search were performed for that key based on a different hash code than that which it had when insereted; the wrong bucket would be searched.\n",
    "\n",
    "Among Python's built-in data types, the immutable `int`, `float`, `str`, `tuple`, and `frozenset` classes produce robust hash codes, via the `hash` function, using techniques similar to those discussed earlier in this section. hash codes for character strings are well crafted based on a technique similar to polynomial hash codes, except using exclusive-or computations rather than additions. Hash codes for tuples are computed with a similar technique based upon a combination of the hash codes of the individual element of the tuple. When hashing a `frozenset`, the order of the elements should be irrelevant, and so a natural option is to compute the exclusive-or of the individual hash codes without any shifting. If `hash(x)` is called for an instance `x` of a mutable type, such as a `list`, a `TypeError` is raised."
   ],
   "metadata": {
    "collapsed": false
   }
  },
  {
   "cell_type": "code",
   "execution_count": 14,
   "outputs": [
    {
     "ename": "TypeError",
     "evalue": "unhashable type: 'list'",
     "output_type": "error",
     "traceback": [
      "\u001B[1;31m---------------------------------------------------------------------------\u001B[0m",
      "\u001B[1;31mTypeError\u001B[0m                                 Traceback (most recent call last)",
      "Cell \u001B[1;32mIn [14], line 2\u001B[0m\n\u001B[0;32m      1\u001B[0m x \u001B[38;5;241m=\u001B[39m [\u001B[38;5;241m1\u001B[39m,\u001B[38;5;241m2\u001B[39m,\u001B[38;5;241m3\u001B[39m]\n\u001B[1;32m----> 2\u001B[0m \u001B[38;5;28;43mhash\u001B[39;49m\u001B[43m(\u001B[49m\u001B[43mx\u001B[49m\u001B[43m)\u001B[49m\n",
      "\u001B[1;31mTypeError\u001B[0m: unhashable type: 'list'"
     ]
    }
   ],
   "source": [
    "x = [1,2,3]\n",
    "hash(x)"
   ],
   "metadata": {
    "collapsed": false
   }
  },
  {
   "cell_type": "code",
   "execution_count": 16,
   "outputs": [
    {
     "data": {
      "text/plain": "529344067295497451"
     },
     "execution_count": 16,
     "metadata": {},
     "output_type": "execute_result"
    }
   ],
   "source": [
    "x = (1,2,3)\n",
    "hash(x)"
   ],
   "metadata": {
    "collapsed": false
   }
  },
  {
   "cell_type": "markdown",
   "source": [
    "Instance of user-defined classes are treated as unhashable by default, with a TypeError rasied by the `hash` function. however, a function that computes hash codes can be implemented in the form of a special method named `__hash__` within a class. The returned hash code shold reflect the immutable attributes of an instance. It is common to return a hash code that is itself based on the computed hash of the combination of such attributes. For example, a `Color` class that maintains three numberic red, green, and blue components might implement the method as:\n",
    "\n",
    "```\n",
    "def __hash__(self):\n",
    "    return hash((self._red, self._green, self._blue))  # hash combined tuple\n",
    "```\n",
    "\n",
    "An important rule to obey is that if a class defines equivalence through `__eq__`, then any implementation of `__hash__` must be consistent, in that if `x == y`, then `hash(x) == hash(y)`. THis is important because if two instances are considered to be equivalent and one is used as a key in a hash table, a search for the second instance should result in the discovery of the first. It is therefore important that the hash code for the second match the hash code for the first, so that the proper bucket is examined. This rule extends to any well-defined comparisons betwen objects of different classes. For example, since Python treates the expression `5 == 5.0` as true, it ensures that `hash(5)` and `hash(5.0)` are the same."
   ],
   "metadata": {
    "collapsed": false
   }
  },
  {
   "cell_type": "code",
   "execution_count": 17,
   "outputs": [
    {
     "data": {
      "text/plain": "5"
     },
     "execution_count": 17,
     "metadata": {},
     "output_type": "execute_result"
    }
   ],
   "source": [
    "hash(5)"
   ],
   "metadata": {
    "collapsed": false
   }
  },
  {
   "cell_type": "code",
   "execution_count": 18,
   "outputs": [
    {
     "data": {
      "text/plain": "5"
     },
     "execution_count": 18,
     "metadata": {},
     "output_type": "execute_result"
    }
   ],
   "source": [
    "hash(5.0)"
   ],
   "metadata": {
    "collapsed": false
   }
  },
  {
   "cell_type": "code",
   "execution_count": 21,
   "outputs": [
    {
     "data": {
      "text/plain": "False"
     },
     "execution_count": 21,
     "metadata": {},
     "output_type": "execute_result"
    }
   ],
   "source": [
    "hash(3.1415) == hash(3.14159)"
   ],
   "metadata": {
    "collapsed": false
   }
  },
  {
   "cell_type": "code",
   "execution_count": 22,
   "outputs": [
    {
     "data": {
      "text/plain": "True"
     },
     "execution_count": 22,
     "metadata": {},
     "output_type": "execute_result"
    }
   ],
   "source": [
    "hash(3.1415) == hash(3.1415000)"
   ],
   "metadata": {
    "collapsed": false
   }
  },
  {
   "cell_type": "code",
   "execution_count": null,
   "outputs": [],
   "source": [],
   "metadata": {
    "collapsed": false
   }
  }
 ],
 "metadata": {
  "kernelspec": {
   "display_name": "Python 3",
   "language": "python",
   "name": "python3"
  },
  "language_info": {
   "codemirror_mode": {
    "name": "ipython",
    "version": 2
   },
   "file_extension": ".py",
   "mimetype": "text/x-python",
   "name": "python",
   "nbconvert_exporter": "python",
   "pygments_lexer": "ipython2",
   "version": "2.7.6"
  }
 },
 "nbformat": 4,
 "nbformat_minor": 0
}
