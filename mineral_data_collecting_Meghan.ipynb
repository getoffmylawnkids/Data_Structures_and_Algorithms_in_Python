{
  "nbformat": 4,
  "nbformat_minor": 0,
  "metadata": {
    "colab": {
      "provenance": [],
      "include_colab_link": true
    },
    "kernelspec": {
      "name": "python3",
      "display_name": "Python 3"
    },
    "language_info": {
      "name": "python"
    },
    "gpuClass": "standard"
  },
  "cells": [
    {
      "cell_type": "markdown",
      "metadata": {
        "id": "view-in-github",
        "colab_type": "text"
      },
      "source": [
        "<a href=\"https://colab.research.google.com/github/getoffmylawnkids/Data_Structures_and_Algorithms_in_Python/blob/main/mineral_data_collecting_Meghan.ipynb\" target=\"_parent\"><img src=\"https://colab.research.google.com/assets/colab-badge.svg\" alt=\"Open In Colab\"/></a>"
      ]
    },
    {
      "cell_type": "markdown",
      "source": [
        "# 0. Dependencies"
      ],
      "metadata": {
        "id": "8uDtQRs1P6aY"
      }
    },
    {
      "cell_type": "markdown",
      "source": [
        "You need to run this section before you get started."
      ],
      "metadata": {
        "id": "6KvxIBFUlFa6"
      }
    },
    {
      "cell_type": "code",
      "source": [
        "!pip install requests-html"
      ],
      "metadata": {
        "colab": {
          "base_uri": "https://localhost:8080/"
        },
        "id": "cazYfZx5Y094",
        "outputId": "290b5050-a4d8-492a-99d8-c1256edf41cc"
      },
      "execution_count": null,
      "outputs": [
        {
          "output_type": "stream",
          "name": "stdout",
          "text": [
            "Looking in indexes: https://pypi.org/simple, https://us-python.pkg.dev/colab-wheels/public/simple/\n",
            "Collecting requests-html\n",
            "  Downloading requests_html-0.10.0-py3-none-any.whl (13 kB)\n",
            "Requirement already satisfied: bs4 in /usr/local/lib/python3.9/dist-packages (from requests-html) (0.0.1)\n",
            "Requirement already satisfied: requests in /usr/local/lib/python3.9/dist-packages (from requests-html) (2.25.1)\n",
            "Collecting parse\n",
            "  Downloading parse-1.19.0.tar.gz (30 kB)\n",
            "  Preparing metadata (setup.py) ... \u001b[?25l\u001b[?25hdone\n",
            "Collecting w3lib\n",
            "  Downloading w3lib-2.1.1-py3-none-any.whl (21 kB)\n",
            "Collecting pyquery\n",
            "  Downloading pyquery-2.0.0-py3-none-any.whl (22 kB)\n",
            "Collecting fake-useragent\n",
            "  Downloading fake_useragent-1.1.1-py3-none-any.whl (50 kB)\n",
            "\u001b[2K     \u001b[90m━━━━━━━━━━━━━━━━━━━━━━━━━━━━━━━━━━━━━━━━\u001b[0m \u001b[32m50.4/50.4 KB\u001b[0m \u001b[31m2.1 MB/s\u001b[0m eta \u001b[36m0:00:00\u001b[0m\n",
            "\u001b[?25hCollecting pyppeteer>=0.0.14\n",
            "  Downloading pyppeteer-1.0.2-py3-none-any.whl (83 kB)\n",
            "\u001b[2K     \u001b[90m━━━━━━━━━━━━━━━━━━━━━━━━━━━━━━━━━━━━━━━━\u001b[0m \u001b[32m83.4/83.4 KB\u001b[0m \u001b[31m2.1 MB/s\u001b[0m eta \u001b[36m0:00:00\u001b[0m\n",
            "\u001b[?25hRequirement already satisfied: certifi>=2021 in /usr/local/lib/python3.9/dist-packages (from pyppeteer>=0.0.14->requests-html) (2022.12.7)\n",
            "Requirement already satisfied: urllib3<2.0.0,>=1.25.8 in /usr/local/lib/python3.9/dist-packages (from pyppeteer>=0.0.14->requests-html) (1.26.15)\n",
            "Collecting websockets<11.0,>=10.0\n",
            "  Downloading websockets-10.4-cp39-cp39-manylinux_2_5_x86_64.manylinux1_x86_64.manylinux_2_17_x86_64.manylinux2014_x86_64.whl (106 kB)\n",
            "\u001b[2K     \u001b[90m━━━━━━━━━━━━━━━━━━━━━━━━━━━━━━━━━━━━━━━\u001b[0m \u001b[32m106.5/106.5 KB\u001b[0m \u001b[31m1.5 MB/s\u001b[0m eta \u001b[36m0:00:00\u001b[0m\n",
            "\u001b[?25hCollecting appdirs<2.0.0,>=1.4.3\n",
            "  Downloading appdirs-1.4.4-py2.py3-none-any.whl (9.6 kB)\n",
            "Requirement already satisfied: tqdm<5.0.0,>=4.42.1 in /usr/local/lib/python3.9/dist-packages (from pyppeteer>=0.0.14->requests-html) (4.65.0)\n",
            "Requirement already satisfied: importlib-metadata>=1.4 in /usr/local/lib/python3.9/dist-packages (from pyppeteer>=0.0.14->requests-html) (6.0.0)\n",
            "Collecting pyee<9.0.0,>=8.1.0\n",
            "  Downloading pyee-8.2.2-py2.py3-none-any.whl (12 kB)\n",
            "Requirement already satisfied: beautifulsoup4 in /usr/local/lib/python3.9/dist-packages (from bs4->requests-html) (4.9.3)\n",
            "Requirement already satisfied: importlib-resources>=5.0 in /usr/local/lib/python3.9/dist-packages (from fake-useragent->requests-html) (5.12.0)\n",
            "Collecting cssselect>=1.2.0\n",
            "  Downloading cssselect-1.2.0-py2.py3-none-any.whl (18 kB)\n",
            "Requirement already satisfied: lxml>=2.1 in /usr/local/lib/python3.9/dist-packages (from pyquery->requests-html) (4.9.2)\n",
            "Requirement already satisfied: chardet<5,>=3.0.2 in /usr/local/lib/python3.9/dist-packages (from requests->requests-html) (4.0.0)\n",
            "Requirement already satisfied: idna<3,>=2.5 in /usr/local/lib/python3.9/dist-packages (from requests->requests-html) (2.10)\n",
            "Requirement already satisfied: zipp>=0.5 in /usr/local/lib/python3.9/dist-packages (from importlib-metadata>=1.4->pyppeteer>=0.0.14->requests-html) (3.15.0)\n",
            "Requirement already satisfied: soupsieve>1.2 in /usr/local/lib/python3.9/dist-packages (from beautifulsoup4->bs4->requests-html) (2.4)\n",
            "Building wheels for collected packages: parse\n",
            "  Building wheel for parse (setup.py) ... \u001b[?25l\u001b[?25hdone\n",
            "  Created wheel for parse: filename=parse-1.19.0-py3-none-any.whl size=24589 sha256=709248d2e1e8a4755374f4b7434362ca0f52a4a6238d2c7ba62f5ffb41ca712e\n",
            "  Stored in directory: /root/.cache/pip/wheels/d6/9c/58/ee3ba36897e890f3ad81e9b730791a153fce20caa4a8a474df\n",
            "Successfully built parse\n",
            "Installing collected packages: pyee, parse, appdirs, websockets, w3lib, cssselect, pyquery, pyppeteer, fake-useragent, requests-html\n",
            "Successfully installed appdirs-1.4.4 cssselect-1.2.0 fake-useragent-1.1.1 parse-1.19.0 pyee-8.2.2 pyppeteer-1.0.2 pyquery-2.0.0 requests-html-0.10.0 w3lib-2.1.1 websockets-10.4\n"
          ]
        }
      ]
    },
    {
      "cell_type": "code",
      "source": [
        "# Importing BeautifulSoup class from the bs4 module\n",
        "from bs4 import BeautifulSoup\n",
        "from lxml import etree\n",
        "import  requests_html"
      ],
      "metadata": {
        "id": "4D-pibDKPjOI"
      },
      "execution_count": null,
      "outputs": []
    },
    {
      "cell_type": "markdown",
      "source": [
        "# 1. Tutorial about Python Classes (You can **skip** this part since it might be too basic for you)"
      ],
      "metadata": {
        "id": "axHQ9V7LT486"
      }
    },
    {
      "cell_type": "markdown",
      "source": [
        "## "
      ],
      "metadata": {
        "id": "Mu2nASQ4BYX4"
      }
    },
    {
      "cell_type": "markdown",
      "source": [
        "## 1.1 `__init__` function"
      ],
      "metadata": {
        "id": "YP2Zj52XbaC6"
      }
    },
    {
      "cell_type": "markdown",
      "source": [
        "The `__init__` method is the Python equivalent of the C++ constructor in an object-oriented approach. \n",
        "\n",
        "The `__init__` function is called every time an object is created from a class. \n",
        "\n",
        "The `__init__` method lets the class initialize the object's attributes and serves no other purpose. It is only used within classes.\n",
        "\n",
        "([Source](https://www.udacity.com/blog/2021/11/__init__-in-python-an-overview.html#:~:text=The%20__init__%20method%20is%20the%20Python%20equivalent%20of,is%20only%20used%20within%20classes.))"
      ],
      "metadata": {
        "id": "yFnfu4AHWqaW"
      }
    },
    {
      "cell_type": "code",
      "source": [
        "class Pet1:\n",
        "    def __init__(self):\n",
        "        print(\"A pet!\")"
      ],
      "metadata": {
        "id": "d2baARWOT9ej"
      },
      "execution_count": null,
      "outputs": []
    },
    {
      "cell_type": "code",
      "source": [
        "# when a object/instance is created to the class, the __init__ is called\n",
        "p1 = Pet1()"
      ],
      "metadata": {
        "colab": {
          "base_uri": "https://localhost:8080/"
        },
        "id": "kTwTnFBOVrCB",
        "outputId": "9217176a-7e8d-4fd6-bc9d-aef3cd75a2e8"
      },
      "execution_count": null,
      "outputs": [
        {
          "output_type": "stream",
          "name": "stdout",
          "text": [
            "A pet!\n"
          ]
        }
      ]
    },
    {
      "cell_type": "markdown",
      "source": [
        "## 1.2 class operations"
      ],
      "metadata": {
        "id": "X8XkOivpbf7-"
      }
    },
    {
      "cell_type": "code",
      "source": [
        "class Pet2:\n",
        "    def __init__(self, SPECIES):\n",
        "        # the `self` is similar to `this` in c++\n",
        "        self.species = SPECIES\n",
        "\n",
        "    def say_hello(self):\n",
        "        print(\"Hello! I am a\", self.species, \"! \")\n",
        "\n",
        "    def greeting(self, YOUR_NAME):\n",
        "        # There are several ways to say greetings\n",
        "        # when you play with them, remenber to run this cell and\n",
        "        # run the creating object cell p2 = pet(\"cat\")\n",
        "\n",
        "        return \"Great to meet you, \" + YOUR_NAME + \"! \"\n",
        "        #return \"Glad to meet you, {}!\".format(YOUR_NAME)\n",
        "        #return \"Happy to meet you, {name}!\".format(name = YOUR_NAME)\n",
        "        # return f\"Nice to meet you, {YOUR_NAME}!\""
      ],
      "metadata": {
        "id": "gqiSAEddWonM"
      },
      "execution_count": null,
      "outputs": []
    },
    {
      "cell_type": "code",
      "source": [
        "p2 = Pet2(\"cat\")"
      ],
      "metadata": {
        "id": "rNQa2vMmXcC1"
      },
      "execution_count": null,
      "outputs": []
    },
    {
      "cell_type": "code",
      "source": [
        "# you can access the variables within the class instance\n",
        "# by using the dot operator `.`\n",
        "print(p2.species)"
      ],
      "metadata": {
        "colab": {
          "base_uri": "https://localhost:8080/"
        },
        "id": "HYXR-6dOXk2d",
        "outputId": "deb2cbe7-aefe-47d4-9039-602e2f7070c2"
      },
      "execution_count": null,
      "outputs": [
        {
          "output_type": "stream",
          "name": "stdout",
          "text": [
            "cat\n"
          ]
        }
      ]
    },
    {
      "cell_type": "code",
      "source": [
        "# also, accessing the function is the same way\n",
        "# but don't forget the parenthesis `()` in the tail\n",
        "p2.say_hello()"
      ],
      "metadata": {
        "colab": {
          "base_uri": "https://localhost:8080/"
        },
        "id": "ag2ZcQyeYgUo",
        "outputId": "2758d6a6-e29e-4ecc-ee6a-00b751c06c87"
      },
      "execution_count": null,
      "outputs": [
        {
          "output_type": "stream",
          "name": "stdout",
          "text": [
            "Hello! I am a cat ! \n"
          ]
        }
      ]
    },
    {
      "cell_type": "code",
      "source": [
        "# notice that the `greeting` function does not print but return a string\n",
        "# so you need to use print() function to get the result\n",
        "print(p2.greeting(\"Alice\"))"
      ],
      "metadata": {
        "colab": {
          "base_uri": "https://localhost:8080/"
        },
        "id": "PhoJjW-XZQgt",
        "outputId": "44a61b86-06d7-4089-c7ee-c2dfb81ead05"
      },
      "execution_count": null,
      "outputs": [
        {
          "output_type": "stream",
          "name": "stdout",
          "text": [
            "Great to meet you, Alice! \n"
          ]
        }
      ]
    },
    {
      "cell_type": "markdown",
      "source": [
        "You can use the class as a data structure and create various kinds of objects as you like"
      ],
      "metadata": {
        "id": "NH2mWHCQh-JJ"
      }
    },
    {
      "cell_type": "code",
      "source": [
        "ppp = Pet2(\"dog\")"
      ],
      "metadata": {
        "id": "6CcsKIIEdlIy"
      },
      "execution_count": null,
      "outputs": []
    },
    {
      "cell_type": "code",
      "source": [
        "ppp.say_hello()\n",
        "print(ppp.greeting(\"Bob\"))"
      ],
      "metadata": {
        "colab": {
          "base_uri": "https://localhost:8080/"
        },
        "id": "aV19Ku1QdpY7",
        "outputId": "134e8f63-9900-4444-c6d6-479e35c01190"
      },
      "execution_count": null,
      "outputs": [
        {
          "output_type": "stream",
          "name": "stdout",
          "text": [
            "Hello! I am a dog ! \n",
            "Great to meet you, Bob! \n"
          ]
        }
      ]
    },
    {
      "cell_type": "markdown",
      "source": [
        "## 1.3 advanced: create a class object using classmethod"
      ],
      "metadata": {
        "id": "38oO7jIJbjO7"
      }
    },
    {
      "cell_type": "markdown",
      "source": [
        "Learning a new way to create class object"
      ],
      "metadata": {
        "id": "umJFSBowbnNG"
      }
    },
    {
      "cell_type": "markdown",
      "source": [
        "### quick tutorial for split function"
      ],
      "metadata": {
        "id": "sQd2zJE2hUHE"
      }
    },
    {
      "cell_type": "code",
      "source": [
        "# split function return a list of splited items by a given delimiter\n",
        "# in this case, a comma and a space\n",
        "string1 = \"1, 1, 2, 3, 5\"\n",
        "list1 = string1.split(\", \")\n",
        "print(list1)"
      ],
      "metadata": {
        "colab": {
          "base_uri": "https://localhost:8080/"
        },
        "id": "Cs55Dz3AeHnC",
        "outputId": "736f8875-6682-409b-e1aa-0c5a02884be8"
      },
      "execution_count": null,
      "outputs": [
        {
          "output_type": "stream",
          "name": "stdout",
          "text": [
            "['1', '1', '2', '3', '5']\n"
          ]
        }
      ]
    },
    {
      "cell_type": "code",
      "source": [
        "# separate by the delimiter of one space\n",
        "# and assign the items to variables\n",
        "string2 = \"Cat-catch-rat\"\n",
        "sub, pred, obj  = string2.split(\"-\")\n",
        "print(\"The hunter is \" + sub)\n",
        "print(\"The movement is \" + pred)\n",
        "print(\"The food is \" + obj)"
      ],
      "metadata": {
        "colab": {
          "base_uri": "https://localhost:8080/"
        },
        "id": "mXVsEp6ReUUS",
        "outputId": "5a5d6176-5166-44fd-c31a-0d4422695cc4"
      },
      "execution_count": null,
      "outputs": [
        {
          "output_type": "stream",
          "name": "stdout",
          "text": [
            "The hunter is Cat\n",
            "The movement is catch\n",
            "The food is rat\n"
          ]
        }
      ]
    },
    {
      "cell_type": "markdown",
      "source": [
        "### try the class method"
      ],
      "metadata": {
        "id": "OvJCil_rhZ9L"
      }
    },
    {
      "cell_type": "code",
      "source": [
        "class Pet3:\n",
        "    def __init__(self, SPECIES, PET_NAME):\n",
        "        self.species = SPECIES\n",
        "        self.name = PET_NAME\n",
        "\n",
        "    def say_hello(self):\n",
        "        line = \"Hello! I am a \" + self.species + \"! \"\n",
        "        # you can concatenate strings using `+=`\n",
        "        line += \"My name is \" + self.name + \". \"\n",
        "        print(line)\n",
        "\n",
        "    # a convenient and neat way to create object\n",
        "    @classmethod\n",
        "    def create_pet_from_string(cls, STRING):\n",
        "        ext_species, ext_name = STRING.split(\", \")\n",
        "        return cls(ext_species, ext_name)"
      ],
      "metadata": {
        "id": "l0GBy7sobzLn"
      },
      "execution_count": null,
      "outputs": []
    },
    {
      "cell_type": "code",
      "source": [
        "# Normally, creating a Pet3() object needs two parameters: species and pet name\n",
        "p1 = Pet3('duck', \"Donald\")\n",
        "p1.say_hello()"
      ],
      "metadata": {
        "colab": {
          "base_uri": "https://localhost:8080/"
        },
        "id": "b5y0Ngo_fxbf",
        "outputId": "d6047a30-8fb2-47e8-8c70-aaf0d210f27f"
      },
      "execution_count": null,
      "outputs": [
        {
          "output_type": "stream",
          "name": "stdout",
          "text": [
            "Hello! I am a duck! My name is Donald. \n"
          ]
        }
      ]
    },
    {
      "cell_type": "code",
      "source": [
        "# now we can create a Pet3() object by firstly passing the string to the \n",
        "# classmethod of create_pet_from_string(), this method will parse the string\n",
        "# and extract the required parameters to create a Pet3() object\n",
        "pet_information = \"mice, Jerry\"\n",
        "p2 = Pet3.create_pet_from_string(pet_information)\n",
        "p2.say_hello()"
      ],
      "metadata": {
        "colab": {
          "base_uri": "https://localhost:8080/"
        },
        "id": "Djzu85hwgOqc",
        "outputId": "ae7f6bc8-ef91-4dd1-cae4-efbdc254d940"
      },
      "execution_count": null,
      "outputs": [
        {
          "output_type": "stream",
          "name": "stdout",
          "text": [
            "Hello! I am a mice! My name is Jerry. \n"
          ]
        }
      ]
    },
    {
      "cell_type": "markdown",
      "source": [
        "## 1.4 Tasks"
      ],
      "metadata": {
        "id": "nd92aXjvwmoV"
      }
    },
    {
      "cell_type": "markdown",
      "source": [
        "Create a python class of your interest, i.e., fruit. Then, apply all the functions shown in the examples, including `__init__`, `say_hello`, `greeting`, `split`, `@classmethod`, and create a series of objects to show them. Please try at least two different string formattings in your examples.\n",
        "\n",
        "You can customize the function names and strings according to your class characteristics."
      ],
      "metadata": {
        "id": "DTiDrfuDwqKQ"
      }
    },
    {
      "cell_type": "code",
      "source": [],
      "metadata": {
        "id": "muw8_NZWyBjC"
      },
      "execution_count": null,
      "outputs": []
    },
    {
      "cell_type": "code",
      "source": [],
      "metadata": {
        "id": "SrkdfMWXyBYg"
      },
      "execution_count": null,
      "outputs": []
    },
    {
      "cell_type": "code",
      "source": [],
      "metadata": {
        "id": "lRh7HvUXBwJf"
      },
      "execution_count": null,
      "outputs": []
    },
    {
      "cell_type": "markdown",
      "source": [
        "# 2. Practical use cases: HTML Parsing Classes"
      ],
      "metadata": {
        "id": "HO6mTluHP9k9"
      }
    },
    {
      "cell_type": "code",
      "source": [
        "class ParseHTML:\n",
        "    def __init__(self, HTML_TEXT):\n",
        "        self.html_text = HTML_TEXT\n",
        "        # https://www.geeksforgeeks.org/how-to-parse-local-html-file-in-python/\n",
        "        self.soup = BeautifulSoup(self.html_text, \"lxml\")\n",
        "        self.tree = etree.HTML(str(self.soup))\n",
        "\n",
        "    @classmethod\n",
        "    def load_local_html(cls, FILEPATH):\n",
        "        with open(FILEPATH, 'r') as f:\n",
        "            html_text = f.read()\n",
        "        return cls(html_text)\n",
        "\n",
        "    @classmethod\n",
        "    def load_url(cls, URL):\n",
        "        session = requests_html.HTMLSession()\n",
        "        html_text = session.get(URL).text\n",
        "        return cls(html_text)\n",
        "        \n",
        "    # how to find xpath: https://www.scrapestorm.com/tutorial/how-to-find-xpath-in-chrome/\n",
        "    def get_text(self, XPATH):\n",
        "        return self.tree.xpath(XPATH)[0].text\n",
        "    \n",
        "    def get_xpath_object(self, XPATH):\n",
        "        return self.tree.xpath(XPATH)"
      ],
      "metadata": {
        "id": "tXkk4ZvhPDco"
      },
      "execution_count": null,
      "outputs": []
    },
    {
      "cell_type": "markdown",
      "source": [
        "## Example 1. getting the text from local file"
      ],
      "metadata": {
        "id": "EQrNohMacsl9"
      }
    },
    {
      "cell_type": "code",
      "source": [
        "# you should have the uploaded html file path by right-clicking it\n",
        "# at the file column to the left of this page, \n",
        "# and select `copy the path`\n",
        "\n",
        "# /content/sample_data/Apple.html\n",
        "html_file_path = \"/content/sample_data/text.html\"\n",
        "p1 = ParseHTML.load_local_html(html_file_path)\n",
        "print(p1.get_text('//*[@id=\"post-569020\"]/div[1]/div[1]/h1'))"
      ],
      "metadata": {
        "colab": {
          "base_uri": "https://localhost:8080/"
        },
        "id": "deExBsR1RwSw",
        "outputId": "1257f70c-8182-4cc2-c401-db151da44dde"
      },
      "execution_count": null,
      "outputs": [
        {
          "output_type": "stream",
          "name": "stdout",
          "text": [
            "How to use Xpath with BeautifulSoup ?\n"
          ]
        }
      ]
    },
    {
      "cell_type": "code",
      "source": [
        "p2 = ParseHTML.load_local_html(\"/content/sample_data/Arizona.html\")"
      ],
      "metadata": {
        "id": "ww8EaDujkjaT"
      },
      "execution_count": null,
      "outputs": []
    },
    {
      "cell_type": "code",
      "source": [
        "print(p2.get_text(\"//*[@id='newlocminlist']/div[1]/p/a[2]\"))"
      ],
      "metadata": {
        "colab": {
          "base_uri": "https://localhost:8080/"
        },
        "id": "xKHvjg4PR491",
        "outputId": "b7cf95a3-059d-45d7-ac80-dd81b02046bf"
      },
      "execution_count": null,
      "outputs": [
        {
          "output_type": "stream",
          "name": "stdout",
          "text": [
            "Abernathyite\n"
          ]
        }
      ]
    },
    {
      "cell_type": "markdown",
      "source": [
        "## Example 2. getting the class from local file"
      ],
      "metadata": {
        "id": "sPlMNuj-dDaT"
      }
    },
    {
      "cell_type": "markdown",
      "source": [
        "Please notice the different functions called here."
      ],
      "metadata": {
        "id": "WWXEzOxciJv4"
      }
    },
    {
      "cell_type": "code",
      "source": [
        "print(p2.get_text('//*[@id=\"newlocminlist\"]/div[73]/p'))"
      ],
      "metadata": {
        "colab": {
          "base_uri": "https://localhost:8080/"
        },
        "id": "D53tAmOtiGW7",
        "outputId": "975a3f71-2e8b-4257-d1ee-eb98f2648d54"
      },
      "execution_count": null,
      "outputs": [
        {
          "output_type": "stream",
          "name": "stdout",
          "text": [
            "None\n"
          ]
        }
      ]
    },
    {
      "cell_type": "code",
      "source": [
        "print(p2.get_xpath_object('//*[@id=\"newlocminlist\"]/div[73]/p'))"
      ],
      "metadata": {
        "colab": {
          "base_uri": "https://localhost:8080/"
        },
        "id": "5d26yvgrTMaa",
        "outputId": "f143874c-eafa-4aed-f596-d9430b63874a"
      },
      "execution_count": null,
      "outputs": [
        {
          "output_type": "stream",
          "name": "stdout",
          "text": [
            "[<Element p at 0x7f31d9251200>]\n"
          ]
        }
      ]
    },
    {
      "cell_type": "code",
      "source": [
        "print(p2.get_xpath_object('//*[@id=\"newlocminlist\"]/div[73]/p/@class'))"
      ],
      "metadata": {
        "colab": {
          "base_uri": "https://localhost:8080/"
        },
        "id": "KxavFP8AVQ9-",
        "outputId": "1d7c7c14-d376-42bc-8429-a9d297e1e84d"
      },
      "execution_count": null,
      "outputs": [
        {
          "output_type": "stream",
          "name": "stdout",
          "text": [
            "['ptag tag_imavalid RF_32768 tag_origin_unset tag_natural tag_Al tag_Pb tag_O tag_F tag_H ']\n"
          ]
        }
      ]
    },
    {
      "cell_type": "markdown",
      "source": [
        "## Example 3. getting the text from the online url"
      ],
      "metadata": {
        "id": "1j8PCaK5c7Q5"
      }
    },
    {
      "cell_type": "code",
      "source": [
        "# you can try any other urls here\n",
        "url_address = \"https://stackoverflow.com/questions/75660204/dynamic-routes-reactjs\"\n",
        "p3 = ParseHTML.load_url(url_address)\n",
        "# but the xpath here is only compatable with stackoverflow\n",
        "# you need to find out the corresponding correct xpath\n",
        "xpath_address = '//*[@id=\"question-header\"]/h1/a'\n",
        "print(p3.get_text(xpath_address))"
      ],
      "metadata": {
        "colab": {
          "base_uri": "https://localhost:8080/"
        },
        "id": "b0bRBNntb7--",
        "outputId": "db06d2ef-905e-483b-f2cb-7a50d3e8502e"
      },
      "execution_count": null,
      "outputs": [
        {
          "output_type": "stream",
          "name": "stdout",
          "text": [
            "Dynamic routes ReactJS\n"
          ]
        }
      ]
    },
    {
      "cell_type": "code",
      "source": [
        "url_address = \"https://en.wikipedia.org/wiki/Apple\"\n",
        "p4 = ParseHTML.load_url(url_address)\n",
        "xpath_address = '//*[@id=\"CITEREFDickson2014\"]/text()[1]'\n",
        "print(p4.get_xpath_object(xpath_address))"
      ],
      "metadata": {
        "colab": {
          "base_uri": "https://localhost:8080/"
        },
        "id": "MY2b2KEL6jsx",
        "outputId": "843425b6-cbcf-45fe-b681-bc402975551b"
      },
      "execution_count": null,
      "outputs": [
        {
          "output_type": "stream",
          "name": "stdout",
          "text": [
            "['Dickson, Elizabeth E. (2014). ']\n"
          ]
        }
      ]
    },
    {
      "cell_type": "code",
      "source": [
        "# /html/body/div[1]/div/div[3]/main/div[2]/div[3]/div[1]/div[30]/div/ol/li[1]/span[2]/cite/text()[1]\n",
        "# /html/body/div[1]/div/div[3]/main/div[2]/div[3]/div[1]/div[30]/div/ol/li[2]/span[2]/cite/text()[1]\n",
        "url_address = \"https://en.wikipedia.org/wiki/Apple\"\n",
        "p4 = ParseHTML.load_url(url_address)\n",
        "\n",
        "for index in range(20):  \n",
        "    xpath_address = '/html/body/div[1]/div/div[3]/main/div[2]/div[3]/div[1]/div[30]/div/ol/li[{}]/span[2]/cite/text()[1]'.format(index + 1)\n",
        "    print(p4.get_xpath_object(xpath_address))"
      ],
      "metadata": {
        "id": "aohb8dwL8Vna"
      },
      "execution_count": null,
      "outputs": []
    },
    {
      "cell_type": "code",
      "source": [
        "for index in range(5):\n",
        "    xpath_address = '/html/body/div[1]/div/div[3]/main/div[2]/div[3]/div[1]/div[30]/div/ol/li[{}]/span[2]/cite/text()[1]'.format(index)\n",
        "    print(xpath_address)"
      ],
      "metadata": {
        "colab": {
          "base_uri": "https://localhost:8080/"
        },
        "id": "IByY6C6Q8zWD",
        "outputId": "0ad2c64a-8413-4d29-de4b-5af3c44888dc"
      },
      "execution_count": null,
      "outputs": [
        {
          "output_type": "stream",
          "name": "stdout",
          "text": [
            "/html/body/div[1]/div/div[3]/main/div[2]/div[3]/div[1]/div[30]/div/ol/li[0]/span[2]/cite/text()[1]\n",
            "/html/body/div[1]/div/div[3]/main/div[2]/div[3]/div[1]/div[30]/div/ol/li[1]/span[2]/cite/text()[1]\n",
            "/html/body/div[1]/div/div[3]/main/div[2]/div[3]/div[1]/div[30]/div/ol/li[2]/span[2]/cite/text()[1]\n",
            "/html/body/div[1]/div/div[3]/main/div[2]/div[3]/div[1]/div[30]/div/ol/li[3]/span[2]/cite/text()[1]\n",
            "/html/body/div[1]/div/div[3]/main/div[2]/div[3]/div[1]/div[30]/div/ol/li[4]/span[2]/cite/text()[1]\n"
          ]
        }
      ]
    },
    {
      "cell_type": "markdown",
      "source": [
        "## Tasks\n"
      ],
      "metadata": {
        "id": "GioOtRtPdLpl"
      }
    },
    {
      "cell_type": "markdown",
      "source": [
        "Please play with two HTML parsing methods from the local file and online URL. The local HTML and online URL should be from two websites, e.g., `Wikipedia`, `Reddit`, etc. \n",
        "\n",
        "The required tasks for both local file and URL include: \n",
        "\n",
        "1. printing the **title** of the select pages and at least **one other text**, e.g., posts, user names, or the dates, and \n",
        "\n",
        "2. printing a **class** of one HTML element.\n",
        "\n",
        "3. find list-like elements in the html, e.g., the names in the references at the end of wikipedia. try to obtain those texts using loops.\n",
        "\n",
        "Note: \n",
        "- The local HTML file can be downloaded by right-clicking any website from your browser and selecting `save as...`. Simple websites are more likely to be parsed successfully. One terrible choice would be this Colab webpage.\n",
        "- After downloading, please upload the `.html` file to the directory to the left of this web page. We can discuss the file management strategy in the future. In the current stage, you should upload it to the root directory, e.g., `/content/sample_data/`.\n",
        "- The `xpath` can be accessed by pressing `F12` on your keyboard and clicking the upper left button of `select element`. Then move and hover your mouse on the website, and click wherever you are interested. Then the browser will highlight the corresponding HTML element code to the right. Right-click the highlighted element, and select `copy xpath`."
      ],
      "metadata": {
        "id": "9Xh0zWrXdPfd"
      }
    },
    {
      "cell_type": "markdown",
      "source": [
        "**Complementory explaination**\n",
        "\n",
        "In terms of collecting the **class** of a html **element**, I am sorry I didn't make it clear what exactly the **class** is. Here is an accompaniment explaination: \n",
        "\n",
        "Given the url of `https://en.wikipedia.org/wiki/Apple_Inc.`, the page title **text** is `Apple Inc.` using the xpath of `/html/body/div[1]/div/div[3]/main/header/h1/span`. The page title html **element** to that xpath is `<span class=\"mw-page-title-main\">Apple Inc.</span>`. \n",
        "\n",
        "Between the `<span class=...>` and the tailing `</span>` is what we grabbed as a **text** object, which is `Apple Inc.` And the **class** is within the first `span` in the `class=` parameter, which is `mw-page-title-main`. "
      ],
      "metadata": {
        "id": "dmBKNQzJ8ML7"
      }
    },
    {
      "cell_type": "code",
      "source": [],
      "metadata": {
        "id": "WmOd-Y8LC5ds"
      },
      "execution_count": null,
      "outputs": []
    },
    {
      "cell_type": "code",
      "source": [],
      "metadata": {
        "id": "EGgoU6jNC5YP"
      },
      "execution_count": null,
      "outputs": []
    },
    {
      "cell_type": "code",
      "source": [],
      "metadata": {
        "id": "IerfmpOIC5Tf"
      },
      "execution_count": null,
      "outputs": []
    },
    {
      "cell_type": "markdown",
      "source": [
        "# 3. Mineral collector (incomplete"
      ],
      "metadata": {
        "id": "8lIock5abtvo"
      }
    },
    {
      "cell_type": "code",
      "source": [
        "    #//*[@id=\"newlocminlist\"]/div[1]/p/a[2]\n",
        "    #//*[@id=\"newlocminlist\"]/div[265]/p/a[2]/s\n",
        "    #//*[@id=\"newlocminlist\"]/div[782]/p/a[2]/i\n",
        "    #//*[@id=\"newlocminlist\"]/div[1077]/p/a[3]\n",
        "    #//*[@id=\"newlocminlist\"]/div[84]/p\n",
        "\n",
        "class MineralCollector:\n",
        "\n",
        "    def __init__(self):\n",
        "        pass\n",
        "\n",
        "    def load_local_html(self, FILENAME):\n",
        "        self.parser = ParseHTML.load_local_html(\"Arizona.html\")\n",
        "    "
      ],
      "metadata": {
        "id": "SURSJtMmV9mK"
      },
      "execution_count": null,
      "outputs": []
    },
    {
      "cell_type": "code",
      "source": [
        "mc = MineralCollector()\n",
        "mc.load_local_html(\"Arizona.html\")"
      ],
      "metadata": {
        "id": "4yYkjzVHa5KR"
      },
      "execution_count": null,
      "outputs": []
    }
  ]
}